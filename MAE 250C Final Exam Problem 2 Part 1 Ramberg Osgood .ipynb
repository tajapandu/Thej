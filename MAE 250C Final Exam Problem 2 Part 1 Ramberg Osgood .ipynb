{
 "cells": [
  {
   "cell_type": "code",
   "execution_count": 5,
   "metadata": {},
   "outputs": [],
   "source": [
    "import pylab\n",
    "import math\n",
    "import numpy as np\n",
    "import pandas as pd\n",
    "import matplotlib.pyplot as plt\n",
    "from pandas import Series, DataFrame\n",
    "import seaborn as sns\n",
    "from scipy import optimize\n",
    "from matplotlib.ticker import ScalarFormatter\n",
    "from matplotlib.ticker import FuncFormatter"
   ]
  },
  {
   "cell_type": "code",
   "execution_count": 9,
   "metadata": {},
   "outputs": [
    {
     "data": {
      "image/png": "[encoded data removed]",
      "text/plain": [
       "<Figure size 432x288 with 1 Axes>"
      ]
     },
     "metadata": {},
     "output_type": "display_data"
    }
   ],
   "source": [
    "# Geometry\n",
    "\n",
    "Kt = 2.15\n",
    "\n",
    "# Material \n",
    "\n",
    "E = 73100.0\n",
    "sig_fp = 927.0\n",
    "b = -0.113\n",
    "c = -0.713\n",
    "eps_fp = 0.409\n",
    "Hpr = 662.0\n",
    "npr = 0.070\n",
    "\n",
    "\n",
    "# Stress History\n",
    "\n",
    "numPks = 9\n",
    "S = np.array([0.0,315.0,45.0,270.0,45.0,225.0,-63.0,45.0,-63.0,315.0])\n",
    "SigOr = np.array([0,0,0,0,1,0,1,0,0,0])\n",
    "\n",
    "# Data Storage Arrays\n",
    "sigPk = [0.0,0.0,0.0,0.0,0.0,0.0,0.0,0.0,0.0,0.0]\n",
    "epsPk = [0.0,0.0,0.0,0.0,0.0,0.0,0.0,0.0,0.0,0.0]\n",
    "delsig = [0.0]\n",
    "\n",
    "# Handle first cycle\n",
    "\n",
    "delS = S[1]-S[0]             \n",
    "signS = delS/(abs(delS))                    # Update sign of loading\n",
    "delS = abs(delS)\n",
    "# find delsig using non-linear root finding\n",
    "def f(sigma):                               #R-O Equation for initial load\n",
    "        return ((1/Kt)*np.sqrt((sigma**2)+(sigma*E*((sigma/Hpr)**(1/npr))))-delS)  \n",
    "delsig = optimize.brentq(f,delS, Kt*delS, args=(), xtol=1e-10, maxiter=100, full_output=True, disp=True)\n",
    "delsig = delsig[0]\n",
    "deleps = (delsig/E)+((delsig/Hpr)**(1/npr)) # R-O equation to find change in strain\n",
    "sigPk[1] = sigPk[0] + signS*delsig          # Store peak stress and strain \n",
    "epsPk[1] = epsPk[0] + signS*deleps\n",
    "\n",
    "# Loop over subsequent turning points \n",
    "\n",
    "for i in range (2,numPks+1):     # Get origin point, accounting for whether or not origin is previous point\n",
    "    if SigOr[i] == 0:\n",
    "        iOrigin = i-1            \n",
    "    else:\n",
    "        iOrigin = SigOr[i]\n",
    "    delS = S[i] - S[iOrigin]\n",
    "    signS = delS/(abs(delS))\n",
    "    delS = abs(delS)\n",
    "    def f(sigma1):               # solve for stress using factor of two expansion of R-O equation for subsequent loads\n",
    "        return ((1/Kt)*np.sqrt(((sigma1/2)**2)+((sigma1*E)/2)*((sigma1/(2*Hpr))**(1/npr)))-(delS/2))\n",
    "    delsig = optimize.brentq(f,delS, Kt*delS, args=(), xtol=1e-10, maxiter=100, full_output=True, disp=True)\n",
    "    delsig = delsig[0]\n",
    "    deleps = 2*((delsig/(2*E))+((delsig/(2*Hpr))**(1/npr)))\n",
    "    sigPk[i] = sigPk[iOrigin] + signS*delsig\n",
    "    epsPk[i] = epsPk[iOrigin] + signS*deleps\n",
    "    \n",
    "# Set up a plot\n",
    "\n",
    "Npts = 50\n",
    "\n",
    "# plot initial loading\n",
    "\n",
    "stress = np.linspace(sigPk[0],sigPk[1],num = Npts)\n",
    "#stress = abs(stress)\n",
    "strain = (stress/E) + ((stress/Hpr)**(1/npr))\n",
    "plt.plot(strain,stress,'r',linestyle='dashed')\n",
    "plt.scatter(strain[49],stress[49],marker = '$A$')\n",
    "    \n",
    "# loop over subsequent turning points\n",
    "\n",
    "for i in range(2,numPks+1):\n",
    "    if SigOr[i] == 0:\n",
    "        iOrigin = i - 1\n",
    "    else:\n",
    "        iOrigin = SigOr[i]\n",
    "    delsig = sigPk[i] - sigPk[iOrigin]\n",
    "    signS = delsig/(abs(delsig))\n",
    "    delsig = abs(delsig)\n",
    "    stress = np.linspace(0,delsig,Npts)\n",
    "    strain = (stress/E) + 2*((stress/2/Hpr)**(1/npr)) \n",
    "    strain = epsPk[iOrigin] + (signS*strain)\n",
    "    stress = sigPk[iOrigin] + (signS*stress)\n",
    "    for j in range(0,Npts):\n",
    "        plt.plot(strain,stress)\n",
    "\n",
    "from matplotlib.pyplot import figure\n",
    "\n",
    "sns.set_style('whitegrid')\n",
    "plt.xlabel(r'$\\epsilon$')\n",
    "plt.ylabel(r'$\\sigma$')\n",
    "plt.scatter(epsPk,sigPk,marker = 'o')\n",
    "plt.savefig('Final_2_hysteresisloop')\n",
    "plt.show()\n",
    "\n"
   ]
  },
  {
   "cell_type": "code",
   "execution_count": 10,
   "metadata": {},
   "outputs": [
    {
     "name": "stdout",
     "output_type": "stream",
     "text": [
      "[0.0, 467.8114011062184, -112.13614952522784, 371.57247941377557, -112.13614952522784, 274.86214129112074, -309.4467209656587, -77.24672212323395, -309.4467209656587, 467.8114011062184]\n"
     ]
    }
   ],
   "source": [
    "print(sigPk)"
   ]
  },
  {
   "cell_type": "code",
   "execution_count": 11,
   "metadata": {},
   "outputs": [
    {
     "name": "stdout",
     "output_type": "stream",
     "text": [
      "[0.0, 0.013412503508863555, 0.005463762392262119, 0.01208197545107822, 0.005463762392262119, 0.010757903420869509, 0.001787907370040141, 0.004964377974110936, 0.001787907370040141, 0.013412503508863555]\n"
     ]
    }
   ],
   "source": [
    "print(epsPk)"
   ]
  },
  {
   "cell_type": "code",
   "execution_count": 13,
   "metadata": {},
   "outputs": [
    {
     "data": {
      "text/plain": [
       "3397.4223119938574"
      ]
     },
     "execution_count": 13,
     "metadata": {},
     "output_type": "execute_result"
    }
   ],
   "source": [
    "SWT1 = 1.859255859\n",
    "SWT2 = 1.229572918\n",
    "SWT3 = 0.72757947\n",
    "SWT4 = 2.719059303\n",
    "\n",
    "def f(Nf1):\n",
    "    return (((sig_fp**2)/E)*((2*Nf1)**(2*b)) + (sig_fp*eps_fp*((2*Nf1)**(b+c))))-SWT1\n",
    "Nf1 = optimize.brentq(f,1, 10**9, args=(), xtol=1e-10, maxiter=100, full_output=True, disp=True)\n",
    "Nf1[0]"
   ]
  },
  {
   "cell_type": "code",
   "execution_count": 14,
   "metadata": {},
   "outputs": [
    {
     "data": {
      "text/plain": [
       "14559.417676222447"
      ]
     },
     "execution_count": 14,
     "metadata": {},
     "output_type": "execute_result"
    }
   ],
   "source": [
    "def f(Nf2):\n",
    "    return (((sig_fp**2)/E)*((2*Nf2)**(2*b)) + (sig_fp*eps_fp*((2*Nf2)**(b+c))))-SWT2\n",
    "Nf2 = optimize.brentq(f,1, 10**9, args=(), xtol=1e-10, maxiter=100, full_output=True, disp=True)\n",
    "Nf2[0]"
   ]
  },
  {
   "cell_type": "code",
   "execution_count": 15,
   "metadata": {},
   "outputs": [
    {
     "data": {
      "text/plain": [
       "120747.22284090934"
      ]
     },
     "execution_count": 15,
     "metadata": {},
     "output_type": "execute_result"
    }
   ],
   "source": [
    "def f(Nf3):\n",
    "    return (((sig_fp**2)/E)*((2*Nf3)**(2*b)) + (sig_fp*eps_fp*((2*Nf3)**(b+c))))-SWT3\n",
    "Nf3 = optimize.brentq(f,1, 10**9, args=(), xtol=1e-10, maxiter=100, full_output=True, disp=True)\n",
    "Nf3[0]"
   ]
  },
  {
   "cell_type": "code",
   "execution_count": 17,
   "metadata": {},
   "outputs": [
    {
     "data": {
      "text/plain": [
       "1103.5266926516347"
      ]
     },
     "execution_count": 17,
     "metadata": {},
     "output_type": "execute_result"
    }
   ],
   "source": [
    "def f(Nf4):\n",
    "    return (((sig_fp**2)/E)*((2*Nf4)**(2*b)) + (sig_fp*eps_fp*((2*Nf4)**(b+c))))-SWT4\n",
    "Nf4 = optimize.brentq(f,1, 10**9, args=(), xtol=1e-10, maxiter=100, full_output=True, disp=True)\n",
    "Nf4[0]"
   ]
  },
  {
   "cell_type": "code",
   "execution_count": 4,
   "metadata": {},
   "outputs": [
    {
     "data": {
      "text/plain": [
       "10"
      ]
     },
     "execution_count": 4,
     "metadata": {},
     "output_type": "execute_result"
    }
   ],
   "source": [
    "len(sigPk)"
   ]
  },
  {
   "cell_type": "code",
   "execution_count": null,
   "metadata": {},
   "outputs": [],
   "source": []
  }
 ],
 "metadata": {
  "kernelspec": {
   "display_name": "Python 3",
   "language": "python",
   "name": "python3"
  },
  "language_info": {
   "codemirror_mode": {
    "name": "ipython",
    "version": 3
   },
   "file_extension": ".py",
   "mimetype": "text/x-python",
   "name": "python",
   "nbconvert_exporter": "python",
   "pygments_lexer": "ipython3",
   "version": "3.7.6"
  }
 },
 "nbformat": 4,
 "nbformat_minor": 4
}
