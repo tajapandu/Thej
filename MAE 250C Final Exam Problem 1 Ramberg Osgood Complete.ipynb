{
 "cells": [
  {
   "cell_type": "code",
   "execution_count": 2,
   "metadata": {},
   "outputs": [],
   "source": [
    "import pylab\n",
    "import math\n",
    "import numpy as np\n",
    "import pandas as pd\n",
    "import matplotlib.pyplot as plt\n",
    "from pandas import Series, DataFrame\n",
    "import seaborn as sns\n",
    "from scipy import optimize\n",
    "from matplotlib.ticker import ScalarFormatter\n",
    "from matplotlib.ticker import FuncFormatter"
   ]
  },
  {
   "cell_type": "code",
   "execution_count": 10,
   "metadata": {},
   "outputs": [
    {
     "data": {
      "image/png": "[encoded data removed]",
      "text/plain": [
       "<Figure size 432x288 with 1 Axes>"
      ]
     },
     "metadata": {},
     "output_type": "display_data"
    }
   ],
   "source": [
    "# Geometry\n",
    "\n",
    "Kt = 2.6\n",
    "\n",
    "# Material \n",
    "\n",
    "E = 73100.0\n",
    "sig_fp = 930.0\n",
    "b = -0.120\n",
    "c = -0.700\n",
    "eps_fp = 0.420\n",
    "Hpr = 660.0\n",
    "npr = 0.075\n",
    "\n",
    "\n",
    "# Stress History\n",
    "\n",
    "numPks = 7\n",
    "S = np.array([0.0,-250.0,-50.0,-250.0,150.0,0.0,150.0,-250.0])\n",
    "SigOr = np.array([0,0,0,0,0,0,1,0])\n",
    "\n",
    "# Data Storage Arrays\n",
    "sigPk = [0.0,0.0,0.0,0.0,0.0,0.0,0.0,0.0]\n",
    "epsPk = [0.0,0.0,0.0,0.0,0.0,0.0,0.0,0.0]\n",
    "delsig = [0.0]\n",
    "\n",
    "# Handle first cycle\n",
    "\n",
    "delS = S[1]-S[0]             \n",
    "signS = delS/(abs(delS))                    # Update sign of loading\n",
    "delS = abs(delS)\n",
    "# find delsig using non-linear root finding\n",
    "def f(sigma):                               #R-O Equation for initial load\n",
    "        return ((1/Kt)*np.sqrt((sigma**2)+(sigma*E*((sigma/Hpr)**(1/npr))))-delS)  \n",
    "delsig = optimize.brentq(f,delS, Kt*delS, args=(), xtol=1e-10, maxiter=100, full_output=True, disp=True)\n",
    "delsig = delsig[0]\n",
    "deleps = (delsig/E)+((delsig/Hpr)**(1/npr)) # R-O equation to find change in strain\n",
    "sigPk[1] = sigPk[0] + signS*delsig          # Store peak stress and strain \n",
    "epsPk[1] = epsPk[0] + signS*deleps\n",
    "\n",
    "# Loop over subsequent turning points \n",
    "\n",
    "for i in range (2,numPks+1):     # Get origin point, accounting for whether or not origin is previous point\n",
    "    if SigOr[i] == 0:\n",
    "        iOrigin = i-1            \n",
    "    else:\n",
    "        iOrigin = SigOr[i]\n",
    "    delS = S[i] - S[iOrigin]\n",
    "    signS = delS/(abs(delS))\n",
    "    delS = abs(delS)\n",
    "    def f(sigma1):               # solve for stress using factor of two expansion of R-O equation for subsequent loads\n",
    "        return ((1/Kt)*np.sqrt(((sigma1/2)**2)+((sigma1*E)/2)*((sigma1/(2*Hpr))**(1/npr)))-(delS/2))\n",
    "    delsig = optimize.brentq(f,delS, Kt*delS, args=(), xtol=1e-10, maxiter=100, full_output=True, disp=True)\n",
    "    delsig = delsig[0]\n",
    "    deleps = 2*((delsig/(2*E))+((delsig/(2*Hpr))**(1/npr)))\n",
    "    sigPk[i] = sigPk[iOrigin] + signS*delsig\n",
    "    epsPk[i] = epsPk[iOrigin] + signS*deleps\n",
    "    \n",
    "# Set up a plot\n",
    "\n",
    "Npts = 50\n",
    "\n",
    "# plot initial loading\n",
    "\n",
    "stress = np.linspace(sigPk[0],sigPk[1],num = Npts)\n",
    "stress = abs(stress)\n",
    "strain = (stress/E) + ((stress/Hpr)**(1/npr))\n",
    "plt.plot(strain*-1,stress*-1,'r',linestyle='dashed')\n",
    "plt.scatter(strain[49]*-1,stress[49]*-1,marker = '$A$')\n",
    "    \n",
    "# loop over subsequent turning points\n",
    "\n",
    "for i in range(2,numPks+1):\n",
    "    if SigOr[i] == 0:\n",
    "        iOrigin = i - 1\n",
    "    else:\n",
    "        iOrigin = SigOr[i]\n",
    "    delsig = sigPk[i] - sigPk[iOrigin]\n",
    "    signS = delsig/(abs(delsig))\n",
    "    delsig = abs(delsig)\n",
    "    stress = np.linspace(0,delsig,Npts)\n",
    "    strain = (stress/E) + 2*((stress/2/Hpr)**(1/npr)) \n",
    "    strain = epsPk[iOrigin] + (signS*strain)\n",
    "    stress = sigPk[iOrigin] + (signS*stress)\n",
    "    for j in range(0,Npts):\n",
    "        plt.plot(strain,stress)\n",
    "\n",
    "from matplotlib.pyplot import figure\n",
    "\n",
    "sns.set_style('whitegrid')\n",
    "plt.xlabel(r'$\\epsilon$')\n",
    "plt.ylabel(r'$\\sigma$')\n",
    "plt.scatter(epsPk,sigPk,marker = 'o')\n",
    "plt.savefig('Final_1_hysteresisloop')\n",
    "plt.show()\n"
   ]
  },
  {
   "cell_type": "code",
   "execution_count": 3,
   "metadata": {},
   "outputs": [
    {
     "name": "stdout",
     "output_type": "stream",
     "text": [
      "[0.0, -452.7622944533453, 66.94511418640406, -452.7622944533453, 398.2591643693656, 8.265527854408901, 398.2591643693656, -452.7622944533453]\n"
     ]
    }
   ],
   "source": [
    "print(sigPk)"
   ]
  },
  {
   "cell_type": "code",
   "execution_count": 4,
   "metadata": {},
   "outputs": [
    {
     "name": "stdout",
     "output_type": "stream",
     "text": [
      "[0.0, -0.012765536867305086, -0.005647988904418838, -0.012765536867305086, 0.004620828044235189, -0.000714416327705655, 0.004620828044235189, -0.012765536867305086]\n"
     ]
    }
   ],
   "source": [
    "print(epsPk)"
   ]
  },
  {
   "cell_type": "code",
   "execution_count": 5,
   "metadata": {},
   "outputs": [
    {
     "data": {
      "text/plain": [
       "5894967.230720258"
      ]
     },
     "execution_count": 5,
     "metadata": {},
     "output_type": "execute_result"
    }
   ],
   "source": [
    "SWT1 = 0.238242531\n",
    "SWT2 = 3.462139581\n",
    "SWT3 = 1.062404983\n",
    "\n",
    "def f(Nf1):\n",
    "    return (((sig_fp**2)/E)*((2*Nf1)**(2*b)) + (sig_fp*eps_fp*((2*Nf1)**(b+c))))-SWT1\n",
    "Nf1 = optimize.brentq(f,1, 10**9, args=(), xtol=1e-10, maxiter=100, full_output=True, disp=True)\n",
    "Nf1[0]"
   ]
  },
  {
   "cell_type": "code",
   "execution_count": 6,
   "metadata": {},
   "outputs": [
    {
     "data": {
      "text/plain": [
       "547.8514991335"
      ]
     },
     "execution_count": 6,
     "metadata": {},
     "output_type": "execute_result"
    }
   ],
   "source": [
    "def f(Nf2):\n",
    "    return (((sig_fp**2)/E)*((2*Nf2)**(2*b)) + (sig_fp*eps_fp*((2*Nf2)**(b+c))))-SWT2\n",
    "Nf2 = optimize.brentq(f,1, 10**9, args=(), xtol=1e-10, maxiter=100, full_output=True, disp=True)\n",
    "Nf2[0]"
   ]
  },
  {
   "cell_type": "code",
   "execution_count": 12,
   "metadata": {},
   "outputs": [
    {
     "data": {
      "text/plain": [
       "15888.521621829857"
      ]
     },
     "execution_count": 12,
     "metadata": {},
     "output_type": "execute_result"
    }
   ],
   "source": [
    "def f(Nf3):\n",
    "    return (((sig_fp**2)/E)*((2*Nf3)**(2*b)) + (sig_fp*eps_fp*((2*Nf3)**(b+c))))-SWT3\n",
    "Nf3 = optimize.brentq(f,1, 10**9, args=(), xtol=1e-10, maxiter=100, full_output=True, disp=True)\n",
    "Nf3[0]"
   ]
  }
 ],
 "metadata": {
  "kernelspec": {
   "display_name": "Python 3",
   "language": "python",
   "name": "python3"
  },
  "language_info": {
   "codemirror_mode": {
    "name": "ipython",
    "version": 3
   },
   "file_extension": ".py",
   "mimetype": "text/x-python",
   "name": "python",
   "nbconvert_exporter": "python",
   "pygments_lexer": "ipython3",
   "version": "3.7.6"
  }
 },
 "nbformat": 4,
 "nbformat_minor": 4
}
