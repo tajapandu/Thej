{
 "cells": [
  {
   "cell_type": "code",
   "execution_count": 2,
   "metadata": {},
   "outputs": [],
   "source": [
    "import pylab\n",
    "import math\n",
    "import numpy as np\n",
    "import pandas as pd\n",
    "import matplotlib.pyplot as plt\n",
    "from pandas import Series, DataFrame\n",
    "import seaborn as sns\n",
    "from scipy import optimize\n",
    "from matplotlib.ticker import ScalarFormatter\n",
    "from matplotlib.ticker import FuncFormatter"
   ]
  },
  {
   "cell_type": "code",
   "execution_count": 5,
   "metadata": {},
   "outputs": [
    {
     "data": {
      "image/png": "[encoded data removed]",
      "text/plain": [
       "<Figure size 432x288 with 1 Axes>"
      ]
     },
     "metadata": {},
     "output_type": "display_data"
    },
    {
     "name": "stdout",
     "output_type": "stream",
     "text": [
      "[  0.          90.          97.78627756 -52.21372244  37.78627756\n",
      " -52.21372244  37.78627756]\n",
      "[0.         0.003      0.00766979 0.00266979 0.00566979 0.00266979\n",
      " 0.00566979]\n"
     ]
    }
   ],
   "source": [
    "# Mike's X2000 Steel\n",
    "# Define and input problem specifics\n",
    "\n",
    "# Geometry\n",
    "Kt = 3.00\n",
    "\n",
    "# Material\n",
    "E = 30000.0 # ksi\n",
    "delSig = np.array([90.0,7.87])\n",
    "delEps = np.array([0.003,0.00472])\n",
    "P = np.array([0.0,0.0])\n",
    "sig_fp = 120 # ksi\n",
    "b = -0.10\n",
    "c = -0.60\n",
    "eps_fp = 0.20\n",
    "# Hpr = \n",
    "# npr = \n",
    "\n",
    "# Stress History\n",
    "\n",
    "numPks = 5\n",
    "numEl = 1\n",
    "S = np.array([0.0,50.0,0.0,30.0,0.0,30.0])\n",
    "\n",
    "# Set Initial Conditions\n",
    "\n",
    "E0 = S0 = 0\n",
    "EL = SL = 0\n",
    "signS = 1\n",
    "sigpts = []\n",
    "epspts = []\n",
    "\n",
    "# Loop over turning points\n",
    "\n",
    "for i in range (1,numPks+1):\n",
    "    E0 = E0 + signS*EL                           #Set origin for this stress range\n",
    "    S0 = S0 + signS*SL\n",
    "    EL = 0                                       #Set initial local coordinates to (0,0) for this turning point                               \n",
    "    SL = 0\n",
    "    delS = (S[i] - S[i-1])                       #Change of stress between turning points\n",
    "    signS = delS/(abs(delS))                     #Sign of stress between turning points (either +1 or -1)\n",
    "    sigEps = ((Kt*delS)**2)/E                    #Neuber Hyperbola\n",
    "    for j in range (0,numEl+1):\n",
    "        Str = SL + abs(signS - P[j])*delSig[j]   #Stretch element to max\n",
    "        Etr = EL + abs(signS - P[j])*delEps[j]\n",
    "        sigEpsTr = Str*Etr\n",
    "        if sigEpsTr < sigEps:\n",
    "            P[j] = signS\n",
    "            EtrGlobal = E0 + signS*Etr\n",
    "            StrGlobal = S0 + signS*Str\n",
    "            sigpts.append(StrGlobal)\n",
    "            epspts.append(EtrGlobal)\n",
    "            SL = Str\n",
    "            EL = Etr\n",
    "        else:\n",
    "            m = (Str-SL)/(Etr-EL)\n",
    "            Eint = (((m*EL)-SL)+(np.sqrt(((SL-(m*EL))**2)+(4*m*sigEps))))/(2*m) # Find hyperbola/element intersection\n",
    "            Sint = SL + m*(Eint-EL)\n",
    "            P[j] = P[j] + signS*((Sint-SL)/(delSig[j]))                         # update availability coefficient\n",
    "            SintGlobal = S0 + signS*Sint                                        # store in global coordinates\n",
    "            EintGlobal = E0 + signS*Eint\n",
    "            epspts.append(EintGlobal)                                           # add global coordinates to an array\n",
    "            sigpts.append(SintGlobal)\n",
    "            SL = Sint\n",
    "            EL = Eint\n",
    "            break\n",
    "\n",
    "sigpts = np.insert(sigpts,0,0)\n",
    "epspts = np.insert(epspts,0,0)\n",
    "sns.set_style('whitegrid')\n",
    "plt.plot(epspts[0:4],sigpts[0:4],'m') \n",
    "plt.plot(epspts[5:],sigpts[5:],'g') \n",
    "plt.ylabel(r'$\\sigma$' + ' (ksi)')\n",
    "plt.xlabel(r'$\\epsilon$')\n",
    "plt.savefig('Final_4_hysteresis_partab1')\n",
    "plt.show()\n",
    "print(sigpts)\n",
    "print(epspts)"
   ]
  },
  {
   "cell_type": "code",
   "execution_count": 25,
   "metadata": {},
   "outputs": [
    {
     "data": {
      "text/plain": [
       "(46522.18379230792,\n",
       "       converged: True\n",
       "            flag: 'converged'\n",
       "  function_calls: 15\n",
       "      iterations: 14\n",
       "            root: 46522.18379230792)"
      ]
     },
     "execution_count": 25,
     "metadata": {},
     "output_type": "execute_result"
    }
   ],
   "source": [
    "SWT = 0.056679416\n",
    "\n",
    "def f(Nf1):\n",
    "    return (((sig_fp**2)/E)*((2*Nf1)**(2*b)) + (sig_fp*eps_fp*((2*Nf1)**(b+c))))-SWT\n",
    "Nf1 = optimize.brentq(f,1, 1000000, args=(), xtol=1e-10, maxiter=100, full_output=True, disp=True)\n",
    "Nf1"
   ]
  },
  {
   "cell_type": "code",
   "execution_count": 40,
   "metadata": {},
   "outputs": [
    {
     "data": {
      "text/plain": [
       "(219975.2080060955,\n",
       "       converged: True\n",
       "            flag: 'converged'\n",
       "  function_calls: 12\n",
       "      iterations: 11\n",
       "            root: 219975.2080060955)"
      ]
     },
     "execution_count": 40,
     "metadata": {},
     "output_type": "execute_result"
    }
   ],
   "source": [
    "def f(Nf1):\n",
    "    SWT = (37.7862776*(((2*Nf1)-1)**-0.03))*0.0015     # substitute function for stress relaxation for sig_max in SWT equation\n",
    "    return (((sig_fp**2)/E)*((2*Nf1)**(2*b)) + (sig_fp*eps_fp*((2*Nf1)**(b+c))))-SWT\n",
    "Nf1 = optimize.brentq(f,1.0, 1000000, args=(), xtol=1e-10, maxiter=100, full_output=True, disp=True)\n",
    "Nf1"
   ]
  },
  {
   "cell_type": "code",
   "execution_count": null,
   "metadata": {},
   "outputs": [],
   "source": []
  }
 ],
 "metadata": {
  "kernelspec": {
   "display_name": "Python 3",
   "language": "python",
   "name": "python3"
  },
  "language_info": {
   "codemirror_mode": {
    "name": "ipython",
    "version": 3
   },
   "file_extension": ".py",
   "mimetype": "text/x-python",
   "name": "python",
   "nbconvert_exporter": "python",
   "pygments_lexer": "ipython3",
   "version": "3.7.6"
  }
 },
 "nbformat": 4,
 "nbformat_minor": 4
}
