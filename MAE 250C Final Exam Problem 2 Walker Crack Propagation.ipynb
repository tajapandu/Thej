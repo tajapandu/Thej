{
 "cells": [
  {
   "cell_type": "code",
   "execution_count": 2,
   "metadata": {},
   "outputs": [],
   "source": [
    "import pylab\n",
    "import math\n",
    "import numpy as np\n",
    "import pandas as pd\n",
    "import matplotlib.pyplot as plt\n",
    "from pandas import Series, DataFrame\n",
    "import seaborn as sns\n",
    "from matplotlib.ticker import ScalarFormatter\n",
    "from matplotlib.ticker import FuncFormatter\n",
    "from sklearn import linear_model\n",
    "import statsmodels.api as sm\n",
    "from scipy import optimize"
   ]
  },
  {
   "cell_type": "code",
   "execution_count": 7,
   "metadata": {},
   "outputs": [
    {
     "name": "stdout",
     "output_type": "stream",
     "text": [
      "44\n",
      "0.01939693217112357\n",
      "6069\n"
     ]
    }
   ],
   "source": [
    "# numerical integration to find cycles to failure\n",
    "\n",
    "# Set initial Conditions\n",
    "\n",
    "deltaAarray = []\n",
    "w = 0.08 # m\n",
    "b = w/2\n",
    "t = 0.002 # m\n",
    "rho = 0.005 # m\n",
    "m = 3.59\n",
    "C0 = 1.42e-11 # m/cycle * (MPa(m**.5))**m\n",
    "Smax = [315.0,270.0,225.0,315.0,45.0]\n",
    "Smin = [45.0,45.0,45.0,-65.0,-65.0]\n",
    "deltaS1 = Smax[0]-Smin[0] # MPa\n",
    "deltaS2 = Smax[1]-Smin[1] # MPa\n",
    "deltaS3 = Smax[2]-Smin[2] # MPa\n",
    "deltaS4 = Smax[3]-Smin[3] # MPa\n",
    "deltaS5 = Smax[4]-Smin[4] # MPa\n",
    "R1 = Smin[0]/Smax[0]\n",
    "R2 = Smin[1]/Smax[1]\n",
    "R3 = Smin[2]/Smax[2]\n",
    "R4 = Smin[3]/Smax[3]\n",
    "R5 = Smin[4]/Smax[4]\n",
    "gamma1 = 0.680\n",
    "gamma2 = 0.0 # gamma for R<0 assumed to be 0.0. Multiple values of gamma were tested from 0 < gamma < 1 and\n",
    "             # found to have no impact on blocks to failure, showing that the R<0 cycles had minimal impact on crack growth.\n",
    "C1 = (C0/((1-R1)**(m*(1-gamma1))))\n",
    "C2 = (C0/((1-R2)**(m*(1-gamma1))))\n",
    "C3 = (C0/((1-R3)**(m*(1-gamma1))))\n",
    "C4 = (C0/((1-R4)**(m*(1-gamma2))))\n",
    "C5 = (C0/((1-R5)**(m*(1-gamma2))))\n",
    "KIc = 34 # MPa * m**0.5\n",
    "Kc  = 90 # Mpa * m**0.5\n",
    "a = [.001]\n",
    "i = 0\n",
    "\n",
    "ac = 0.019422568022193453              # critical crack lengtj\n",
    "failure = False\n",
    "Farray = []\n",
    "alphaarray = []\n",
    "def calcdelta(deltaS,R,gamma,C):       # Function to find F, deltaK, dadN, and deltaA\n",
    "    alpha = a[len(a)-1]/b\n",
    "    beta = (np.pi*alpha)/2\n",
    "    F = (np.sqrt(np.tan(beta)/beta))*(1+(0.122*(np.cos(beta))**4))    # Expression for F from fig 8.12 (b)\n",
    "    Farray.append(F)\n",
    "    alphaarray.append(alpha)\n",
    "    deltaK = F*deltaS*np.sqrt(np.pi*a[-1])  # calculate deltaK\n",
    "    dadN  = C*(deltaK**m)                   # calculate da/dN\n",
    "    deltaA = dadN*1\n",
    "    return deltaA\n",
    "\n",
    "while failure == False:     \n",
    "    for j in range(len(a)-1,len(a)+14):     # A to B (15 cycles)\n",
    "        deltaA1 = calcdelta(deltaS1,R1,gamma1,C1) \n",
    "        if deltaA1 + a[j] < ac:\n",
    "            a.append(deltaA1 + a[j])        # add deltaA to last entry in deltaA array\n",
    "        else:\n",
    "            failure = True\n",
    "            break\n",
    "    if failure == True:\n",
    "        break\n",
    "      \n",
    "    for k in range(len(a)-1,len(a)+39):     # C to B (40 cycles)\n",
    "        deltaA2 = calcdelta(deltaS2,R2,gamma1,C2)\n",
    "        if  (deltaA2 + a[k]) < ac:          \n",
    "            a.append(deltaA2 + a[k])   \n",
    "        else:\n",
    "            failure = True\n",
    "            break\n",
    "    if failure == True:\n",
    "        break\n",
    "        \n",
    "    for l in range(len(a)-1,len(a)+79):     # D to B (80 cycles)\n",
    "        deltaA3 = calcdelta(deltaS3,R3,gamma1,C3)\n",
    "        if  (deltaA3 + a[l]) < ac:\n",
    "            a.append(deltaA3 + a[l])   \n",
    "        else:\n",
    "            failure = True\n",
    "            break\n",
    "    if failure == True:\n",
    "        break\n",
    "    \n",
    "    deltaA4 = calcdelta(deltaS4,R4,gamma2,C4) # A to E (1 cycle)\n",
    "    if  (deltaA4 + a[len(a)-1]) < ac:\n",
    "        a.append(deltaA4 + a[len(a)-1])   \n",
    "    else:\n",
    "        failure = True\n",
    "        break\n",
    "        \n",
    "    deltaA5 = calcdelta(deltaS5,R5,gamma2,C5) # B2 to E (1 cycle)\n",
    "    if  (deltaA5 + a[len(a)-1]) < ac:\n",
    "        a.append(deltaA5 + a[len(a)-1])   \n",
    "    else:\n",
    "        failure = True\n",
    "        break\n",
    "        \n",
    "    i = i+1\n",
    "    \n",
    "print(i)\n",
    "print(a[-1])\n",
    "print(len(a))"
   ]
  },
  {
   "cell_type": "code",
   "execution_count": 8,
   "metadata": {},
   "outputs": [
    {
     "data": {
      "image/png": "[encoded data removed]",
      "text/plain": [
       "<Figure size 432x288 with 1 Axes>"
      ]
     },
     "metadata": {
      "needs_background": "light"
     },
     "output_type": "display_data"
    }
   ],
   "source": [
    "plt.plot(alphaarray,Farray)\n",
    "plt.xlabel(r'$\\alpha$')\n",
    "plt.ylabel('F')\n",
    "plt.savefig('problem2Fplot')"
   ]
  },
  {
   "cell_type": "code",
   "execution_count": 187,
   "metadata": {},
   "outputs": [
    {
     "name": "stdout",
     "output_type": "stream",
     "text": [
      "270.0 225.0 180.0 380.0 110.0\n"
     ]
    }
   ],
   "source": [
    "print(deltaS1,deltaS2,deltaS3,deltaS4,deltaS5)"
   ]
  },
  {
   "cell_type": "code",
   "execution_count": 186,
   "metadata": {},
   "outputs": [
    {
     "name": "stdout",
     "output_type": "stream",
     "text": [
      "1.6951058251472865e-11 1.7508613661312624e-11 1.834926054396439e-11 7.24102622925363e-12 5.737484550627416e-13\n"
     ]
    }
   ],
   "source": [
    "print(C1,C2,C3,C4,C5)"
   ]
  },
  {
   "cell_type": "code",
   "execution_count": 185,
   "metadata": {},
   "outputs": [
    {
     "name": "stdout",
     "output_type": "stream",
     "text": [
      "0.14285714285714285 0.16666666666666666 0.2 -0.20634920634920634 -1.4444444444444444\n"
     ]
    }
   ],
   "source": [
    "print(R1,R2,R3,R4,R5)\n"
   ]
  },
  {
   "cell_type": "code",
   "execution_count": 184,
   "metadata": {},
   "outputs": [
    {
     "data": {
      "text/plain": [
       "1.1182315435722778"
      ]
     },
     "execution_count": 184,
     "metadata": {},
     "output_type": "execute_result"
    }
   ],
   "source": [
    "min(Farray)"
   ]
  },
  {
   "cell_type": "code",
   "execution_count": 183,
   "metadata": {},
   "outputs": [
    {
     "name": "stdout",
     "output_type": "stream",
     "text": [
      "0.68 0.0\n"
     ]
    }
   ],
   "source": [
    "print(gamma1,gamma2)"
   ]
  },
  {
   "cell_type": "code",
   "execution_count": 5,
   "metadata": {},
   "outputs": [
    {
     "data": {
      "text/plain": [
       "0.019422568022193453"
      ]
     },
     "execution_count": 5,
     "metadata": {},
     "output_type": "execute_result"
    }
   ],
   "source": [
    "# determine critical crack length\n",
    "\n",
    "def f(a):\n",
    "    Kc = 90\n",
    "    alpha = a/b\n",
    "    beta = (np.pi*alpha)/2\n",
    "    F = (np.sqrt(np.tan(beta)/beta))*(1+(0.122*(np.cos(beta))**4)) \n",
    "#     F = 1.122\n",
    "    return (F*315.0*np.sqrt(np.pi*a))-Kc\n",
    "af = optimize.brentq(f,0.0001, .03, args=(), xtol=1e-10, maxiter=100, full_output=True, disp=True)\n",
    "af[0]\n",
    "\n"
   ]
  },
  {
   "cell_type": "code",
   "execution_count": null,
   "metadata": {},
   "outputs": [],
   "source": []
  },
  {
   "cell_type": "code",
   "execution_count": null,
   "metadata": {},
   "outputs": [],
   "source": []
  }
 ],
 "metadata": {
  "kernelspec": {
   "display_name": "Python 3",
   "language": "python",
   "name": "python3"
  },
  "language_info": {
   "codemirror_mode": {
    "name": "ipython",
    "version": 3
   },
   "file_extension": ".py",
   "mimetype": "text/x-python",
   "name": "python",
   "nbconvert_exporter": "python",
   "pygments_lexer": "ipython3",
   "version": "3.7.6"
  }
 },
 "nbformat": 4,
 "nbformat_minor": 4
}
