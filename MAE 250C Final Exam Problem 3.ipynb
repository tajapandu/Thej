{
 "cells": [
  {
   "cell_type": "code",
   "execution_count": 2,
   "metadata": {},
   "outputs": [],
   "source": [
    "import pylab\n",
    "import math\n",
    "import numpy as np\n",
    "import pandas as pd\n",
    "import matplotlib.pyplot as plt\n",
    "from pandas import Series, DataFrame\n",
    "import seaborn as sns\n",
    "from matplotlib.ticker import ScalarFormatter\n",
    "from matplotlib.ticker import FuncFormatter\n",
    "from sklearn import linear_model\n",
    "import statsmodels.api as sm\n",
    "from scipy import optimize"
   ]
  },
  {
   "cell_type": "code",
   "execution_count": 4,
   "metadata": {},
   "outputs": [
    {
     "data": {
      "text/plain": [
       "0.6530905178492722"
      ]
     },
     "execution_count": 4,
     "metadata": {},
     "output_type": "execute_result"
    }
   ],
   "source": [
    "# Use root finding to determine critical crack size\n",
    "\n",
    "def f(a):\n",
    "    Kc = 45 \n",
    "    F = 1.122\n",
    "    return (F*28.0*np.sqrt(np.pi*a))-Kc\n",
    "af = optimize.brentq(f,0.0, 2, args=(), xtol=1e-10, maxiter=100, full_output=True, disp=True)\n",
    "af[0]\n",
    "\n"
   ]
  },
  {
   "cell_type": "code",
   "execution_count": 6,
   "metadata": {},
   "outputs": [
    {
     "data": {
      "text/plain": [
       "2538.8020314300547"
      ]
     },
     "execution_count": 6,
     "metadata": {},
     "output_type": "execute_result"
    }
   ],
   "source": [
    "# numerical integration to find cycles to failure\n",
    "\n",
    "deltaNarray = []\n",
    "deltaS = 28.0 #ksi\n",
    "C = 2e-9\n",
    "a = np.linspace(.02,.65309051,10000)\n",
    "m = 4.0\n",
    "Nf = []\n",
    "for i in range(0,9999):\n",
    "        abar = a[i] + ((a[i+1]-a[i])/2)\n",
    "        F = 1.12\n",
    "        deltaK = F*deltaS*np.sqrt(3.14159*abar)\n",
    "        dadN  = C*(deltaK**m)\n",
    "        deltaN = (a[i+1]-a[i])/dadN\n",
    "        deltaNarray.append(deltaN)\n",
    "sum(deltaNarray)"
   ]
  },
  {
   "cell_type": "code",
   "execution_count": null,
   "metadata": {},
   "outputs": [],
   "source": []
  },
  {
   "cell_type": "code",
   "execution_count": null,
   "metadata": {},
   "outputs": [],
   "source": []
  }
 ],
 "metadata": {
  "kernelspec": {
   "display_name": "Python 3",
   "language": "python",
   "name": "python3"
  },
  "language_info": {
   "codemirror_mode": {
    "name": "ipython",
    "version": 3
   },
   "file_extension": ".py",
   "mimetype": "text/x-python",
   "name": "python",
   "nbconvert_exporter": "python",
   "pygments_lexer": "ipython3",
   "version": "3.7.6"
  }
 },
 "nbformat": 4,
 "nbformat_minor": 4
}
